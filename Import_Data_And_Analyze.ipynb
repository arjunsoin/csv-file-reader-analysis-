{
 "cells": [
  {
   "cell_type": "code",
   "execution_count": 64,
   "metadata": {
    "collapsed": true
   },
   "outputs": [],
   "source": [
    "import numpy as np\n",
    "import pandas as pd "
   ]
  },
  {
   "cell_type": "code",
   "execution_count": 65,
   "metadata": {
    "collapsed": true
   },
   "outputs": [],
   "source": [
    "# load the required data file \n",
    "data_file = pd.read_csv('test.csv')"
   ]
  },
  {
   "cell_type": "code",
   "execution_count": 68,
   "metadata": {},
   "outputs": [
    {
     "name": "stdout",
     "output_type": "stream",
     "text": [
      "0      4310\n",
      "1      4310\n",
      "2      4310\n",
      "3      4310\n",
      "4      4310\n",
      "5      4310\n",
      "6      4310\n",
      "7      4310\n",
      "8      4310\n",
      "9      4310\n",
      "10     4310\n",
      "11     4200\n",
      "12     4200\n",
      "13     4200\n",
      "14     4200\n",
      "15     4200\n",
      "16     4200\n",
      "17     4200\n",
      "18     4200\n",
      "19     4200\n",
      "20     4200\n",
      "21     4200\n",
      "22     4200\n",
      "23     4200\n",
      "24     4200\n",
      "25     4310\n",
      "26     4310\n",
      "27     4310\n",
      "28     4310\n",
      "29     4310\n",
      "       ... \n",
      "422    5460\n",
      "423    5460\n",
      "424    5460\n",
      "425    5460\n",
      "426    5460\n",
      "427    5460\n",
      "428    5460\n",
      "429    5460\n",
      "430    5460\n",
      "431    5460\n",
      "432    5460\n",
      "433    5460\n",
      "434    5460\n",
      "435    5460\n",
      "436    5460\n",
      "437    5460\n",
      "438    5460\n",
      "439    5460\n",
      "440    5460\n",
      "441    5460\n",
      "442    5460\n",
      "443    5460\n",
      "444    5460\n",
      "445    5460\n",
      "446    5460\n",
      "447    5460\n",
      "448    5460\n",
      "449    5460\n",
      "450    5460\n",
      "451    5460\n",
      "Length: 452, dtype: int64\n"
     ]
    }
   ],
   "source": [
    "# i = 0\n",
    "# for row in data_file:\n",
    "loan = data_file['monthly_loan_payment'] + data_file['monthly_sdl_payment'] \n",
    "print(loan)\n",
    "\n",
    "# print((names))"
   ]
  },
  {
   "cell_type": "code",
   "execution_count": 74,
   "metadata": {},
   "outputs": [
    {
     "name": "stdout",
     "output_type": "stream",
     "text": [
      "   user_id  total_emi_number  monthly_loan_payment  monthly_sdl_payment\n",
      "0       19                26                  3300                 1010\n",
      "1       19                26                  3300                 1010\n",
      "2       19                26                  3300                 1010\n"
     ]
    }
   ],
   "source": [
    "sensors = data_file.ix[:,'user_id':'monthly_sdl_payment']\n",
    "print(sensors[0:3])"
   ]
  },
  {
   "cell_type": "code",
   "execution_count": 76,
   "metadata": {},
   "outputs": [
    {
     "name": "stdout",
     "output_type": "stream",
     "text": [
      "0    1088.75\n",
      "1    1088.75\n",
      "2    1088.75\n",
      "dtype: float64\n",
      "user_id                  253.214602\n",
      "total_emi_number          27.654867\n",
      "monthly_loan_payment    3425.256637\n",
      "monthly_sdl_payment      962.398230\n",
      "dtype: float64\n"
     ]
    }
   ],
   "source": [
    "avg_row = np.mean(sensors,1)\n",
    "avg_col = np.mean(sensors,0)\n",
    "print(avg_row[0:3])\n",
    "print(avg_col)"
   ]
  },
  {
   "cell_type": "code",
   "execution_count": 77,
   "metadata": {},
   "outputs": [
    {
     "name": "stdout",
     "output_type": "stream",
     "text": [
      "      0  user_id  total_emi_number  monthly_loan_payment  monthly_sdl_payment  \\\n",
      "0  4310       19                26                  3300                 1010   \n",
      "1  4310       19                26                  3300                 1010   \n",
      "2  4310       19                26                  3300                 1010   \n",
      "\n",
      "         1  \n",
      "0  1088.75  \n",
      "1  1088.75  \n",
      "2  1088.75  \n"
     ]
    }
   ],
   "source": [
    "my_data = [loan,sensors,avg_row]\n",
    "result = pd.concat(my_data, axis = 1)\n",
    "print(result[0:3])"
   ]
  },
  {
   "cell_type": "code",
   "execution_count": 78,
   "metadata": {
    "collapsed": true
   },
   "outputs": [],
   "source": [
    "result.to_excel('result.xlsx')"
   ]
  },
  {
   "cell_type": "code",
   "execution_count": 79,
   "metadata": {},
   "outputs": [
    {
     "name": "stderr",
     "output_type": "stream",
     "text": [
      "/Users/arjunsoin/anaconda/lib/python3.6/site-packages/matplotlib/font_manager.py:280: UserWarning: Matplotlib is building the font cache using fc-list. This may take a moment.\n",
      "  'Matplotlib is building the font cache using fc-list. '\n"
     ]
    }
   ],
   "source": [
    "%matplotlib inline\n",
    "import matplotlib.pyplot as plt"
   ]
  },
  {
   "cell_type": "code",
   "execution_count": null,
   "metadata": {
    "collapsed": true
   },
   "outputs": [],
   "source": []
  },
  {
   "cell_type": "code",
   "execution_count": 80,
   "metadata": {},
   "outputs": [
    {
     "data": {
      "text/plain": [
       "[<matplotlib.lines.Line2D at 0x11753e6a0>]"
      ]
     },
     "execution_count": 80,
     "metadata": {},
     "output_type": "execute_result"
    },
    {
     "data": {
      "image/png": "[encoded data removed]",
      "text/plain": [
       "<matplotlib.figure.Figure at 0x1174a8e48>"
      ]
     },
     "metadata": {},
     "output_type": "display_data"
    }
   ],
   "source": [
    "plt.figure(1)\n",
    "plt.plot(loan,sensors['monthly_loan_payment'], 'r-')\n",
    "plt.plot(loan,avg_row, 'b.')\n",
    "\n"
   ]
  },
  {
   "cell_type": "code",
   "execution_count": null,
   "metadata": {
    "collapsed": true
   },
   "outputs": [],
   "source": []
  }
 ],
 "metadata": {
  "kernelspec": {
   "display_name": "Python 3",
   "language": "python",
   "name": "python3"
  },
  "language_info": {
   "codemirror_mode": {
    "name": "ipython",
    "version": 3
   },
   "file_extension": ".py",
   "mimetype": "text/x-python",
   "name": "python",
   "nbconvert_exporter": "python",
   "pygments_lexer": "ipython3",
   "version": "3.6.1"
  }
 },
 "nbformat": 4,
 "nbformat_minor": 2
}
